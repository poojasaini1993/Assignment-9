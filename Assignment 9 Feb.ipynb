{
 "cells": [
  {
   "cell_type": "code",
   "execution_count": 1,
   "id": "f660c176-a3e4-46ef-9548-980faa0964f9",
   "metadata": {},
   "outputs": [],
   "source": [
    "##Q1, Create a vehicle class with an init method having instance variables as name_of_vehicle, max_speed and average_of_vehicle."
   ]
  },
  {
   "cell_type": "code",
   "execution_count": 20,
   "id": "fc830e72-20fa-4259-a65f-82c3744c896a",
   "metadata": {},
   "outputs": [],
   "source": [
    "class vehicle:\n",
    "    def __init__(self,name_of_vehicle, max_speed, average_of_vehicle):\n",
    "        self.name_of_vehicle=name_of_vehicle\n",
    "        self.max_speed=max_speed\n",
    "        self.average_of_vehicle=average_of_vehicle"
   ]
  },
  {
   "cell_type": "code",
   "execution_count": 25,
   "id": "73547754-0f3b-44a3-b48a-95b047dd9348",
   "metadata": {},
   "outputs": [],
   "source": [
    "vehicle_class=vehicle(\"Toyota\",234,12)"
   ]
  },
  {
   "cell_type": "code",
   "execution_count": 26,
   "id": "c0d0431b-2df1-425f-8619-b5e1534d4a3b",
   "metadata": {},
   "outputs": [
    {
     "data": {
      "text/plain": [
       "'Toyota'"
      ]
     },
     "execution_count": 26,
     "metadata": {},
     "output_type": "execute_result"
    }
   ],
   "source": [
    "vehicle_class.name_of_vehicle"
   ]
  },
  {
   "cell_type": "code",
   "execution_count": 27,
   "id": "67ed5894-2486-4ca2-ab18-af54cb9f27af",
   "metadata": {},
   "outputs": [
    {
     "data": {
      "text/plain": [
       "234"
      ]
     },
     "execution_count": 27,
     "metadata": {},
     "output_type": "execute_result"
    }
   ],
   "source": [
    "vehicle_class.max_speed"
   ]
  },
  {
   "cell_type": "code",
   "execution_count": 29,
   "id": "887a343c-92ab-49a1-b59d-9299cf03e7c7",
   "metadata": {},
   "outputs": [
    {
     "data": {
      "text/plain": [
       "12"
      ]
     },
     "execution_count": 29,
     "metadata": {},
     "output_type": "execute_result"
    }
   ],
   "source": [
    "vehicle_class.average_of_vehicle"
   ]
  },
  {
   "cell_type": "code",
   "execution_count": 1,
   "id": "cd996586-d03d-46ec-9ea1-deb27fabcd30",
   "metadata": {},
   "outputs": [],
   "source": [
    "## Q2. Create a child class car from the vehicle class created in Que 1, which will inherit the vehicle class.\n",
    "##Create a method named seating_capacity which takes capacity as an argument and returns the name of the vehicle and its seating capacity."
   ]
  },
  {
   "cell_type": "code",
   "execution_count": 2,
   "id": "4c338ad3-8f01-4f0d-a06d-53bcae8eab90",
   "metadata": {},
   "outputs": [],
   "source": [
    "class vehicle:\n",
    "    def vehicle(self):\n",
    "        return \"My car has average speed 200 km per hour\""
   ]
  },
  {
   "cell_type": "code",
   "execution_count": 4,
   "id": "403d4de1-bb04-414a-a894-65135aebf474",
   "metadata": {},
   "outputs": [],
   "source": [
    "class child_class(vehicle):\n",
    "    pass\n",
    "    "
   ]
  },
  {
   "cell_type": "code",
   "execution_count": 8,
   "id": "5c752a9c-fd6b-43b8-8df0-b6b1c39355a0",
   "metadata": {},
   "outputs": [],
   "source": [
    "child_class1=child_class()"
   ]
  },
  {
   "cell_type": "code",
   "execution_count": 9,
   "id": "2f5317ee-46b1-46c7-bad9-8ce03013321e",
   "metadata": {},
   "outputs": [
    {
     "data": {
      "text/plain": [
       "'My car has average speed 200 km per hour'"
      ]
     },
     "execution_count": 9,
     "metadata": {},
     "output_type": "execute_result"
    }
   ],
   "source": [
    "child_class1.vehicle()"
   ]
  },
  {
   "cell_type": "code",
   "execution_count": 2,
   "id": "682bf3cb-1c11-4165-bcf5-3916a5a664b7",
   "metadata": {},
   "outputs": [],
   "source": [
    "def seating_capacity(capacity):\n",
    "    if capacity<=5:\n",
    "        return \"Car - Seating capacity: {}\".format(capacity)\n",
    "    elif capacity<=40:\n",
    "        return \"Bus - Seating capacity: {}\".format(capacity)\n",
    "    else:\n",
    "        return \"Plan - Seating capacity: {}\".format(capacity)\n",
    "    "
   ]
  },
  {
   "cell_type": "code",
   "execution_count": 4,
   "id": "3721e307-2598-431a-b86c-0d209fff5406",
   "metadata": {},
   "outputs": [
    {
     "data": {
      "text/plain": [
       "'Car - Seating capacity: 3'"
      ]
     },
     "execution_count": 4,
     "metadata": {},
     "output_type": "execute_result"
    }
   ],
   "source": [
    "seating_capacity(3)"
   ]
  },
  {
   "cell_type": "code",
   "execution_count": 5,
   "id": "2999a446-c86a-4618-b3de-1c9dd0d3bd07",
   "metadata": {},
   "outputs": [
    {
     "data": {
      "text/plain": [
       "'Bus - Seating capacity: 6'"
      ]
     },
     "execution_count": 5,
     "metadata": {},
     "output_type": "execute_result"
    }
   ],
   "source": [
    "seating_capacity(6)"
   ]
  },
  {
   "cell_type": "code",
   "execution_count": 6,
   "id": "98e6429b-9348-434c-98d3-fd9718f762ce",
   "metadata": {},
   "outputs": [
    {
     "data": {
      "text/plain": [
       "'Plan - Seating capacity: 50'"
      ]
     },
     "execution_count": 6,
     "metadata": {},
     "output_type": "execute_result"
    }
   ],
   "source": [
    "seating_capacity(50)"
   ]
  },
  {
   "cell_type": "code",
   "execution_count": 31,
   "id": "edc4ce51-c94d-4da0-9fc0-4e685adfaf4a",
   "metadata": {},
   "outputs": [],
   "source": [
    "## Q3. What is multiple inheritance? Write a python code to demonstrate multiple inheritance.\n",
    "## If a child class is inheriting the properties of a single other class, we call it single inheritance. However, if a child class inherits from more than one class, i.e. this child class is derived from multiple classes, we call it multiple inheritance in Python.or A class can be derived from more than one superclass in Python."
   ]
  },
  {
   "cell_type": "code",
   "execution_count": 32,
   "id": "9eb9ffab-8a76-4c6b-bfb5-a3e11b57f9d2",
   "metadata": {},
   "outputs": [],
   "source": [
    "class class1:\n",
    "    def test_class1(self):\n",
    "        return \"This is so beautiful flower.\""
   ]
  },
  {
   "cell_type": "code",
   "execution_count": 33,
   "id": "1bb723bc-d944-4592-8272-c2d8ebd3f67a",
   "metadata": {},
   "outputs": [],
   "source": [
    "class class2:\n",
    "    def test_class2(self):\n",
    "        return \"The colour of flower is red.\""
   ]
  },
  {
   "cell_type": "code",
   "execution_count": 34,
   "id": "5f0a749a-0df6-44a8-b3f1-e561756a4cc3",
   "metadata": {},
   "outputs": [],
   "source": [
    "class class3(class1,class2):\n",
    "    pass"
   ]
  },
  {
   "cell_type": "code",
   "execution_count": 35,
   "id": "c209c738-0420-4ae3-9046-11e90dd29c1c",
   "metadata": {},
   "outputs": [],
   "source": [
    "test_class3=class3()"
   ]
  },
  {
   "cell_type": "code",
   "execution_count": 37,
   "id": "eeedbe55-93b1-4900-97a3-0b62aa604b1d",
   "metadata": {},
   "outputs": [
    {
     "data": {
      "text/plain": [
       "'This is so beautiful flower.'"
      ]
     },
     "execution_count": 37,
     "metadata": {},
     "output_type": "execute_result"
    }
   ],
   "source": [
    "test_class3.test_class1()"
   ]
  },
  {
   "cell_type": "code",
   "execution_count": 38,
   "id": "d3e4ac63-dd7e-4cbb-bf85-e4715743bf04",
   "metadata": {},
   "outputs": [
    {
     "data": {
      "text/plain": [
       "'The colour of flower is red.'"
      ]
     },
     "execution_count": 38,
     "metadata": {},
     "output_type": "execute_result"
    }
   ],
   "source": [
    "test_class3.test_class2()"
   ]
  },
  {
   "cell_type": "code",
   "execution_count": 1,
   "id": "745198d4-743c-49a8-92e7-1eb8174766f6",
   "metadata": {},
   "outputs": [],
   "source": [
    "##Q4. What are getter and setter in python? Create a class and create a getter and a setter method in this class."
   ]
  },
  {
   "cell_type": "code",
   "execution_count": 2,
   "id": "193e6d46-a154-40f3-8649-70b1d74a6a9f",
   "metadata": {},
   "outputs": [],
   "source": [
    "##ans- Getter: A method that allows you to access an attribute in a given class. Setter: A method that allows you to set or mutate the value of an attribute in a class."
   ]
  },
  {
   "cell_type": "code",
   "execution_count": 3,
   "id": "fc832cf3-9471-4d7f-8b97-d823c63c1c54",
   "metadata": {},
   "outputs": [],
   "source": [
    "## using setter\n",
    "class pwskills1:\n",
    "    def __init__(self, name, email):\n",
    "        self.__name=name\n",
    "        self.email=email\n",
    "    @property\n",
    "    def name_access(self):\n",
    "        return self.__name\n",
    "    \n",
    "    @name_access.setter\n",
    "    def name_access_set(self,name):\n",
    "         self.__name=name"
   ]
  },
  {
   "cell_type": "code",
   "execution_count": 4,
   "id": "959e2cb8-d5e1-4691-a49f-6ff7453b3861",
   "metadata": {},
   "outputs": [],
   "source": [
    "pw1=pwskills1(\"pooja\",\"pooja@gmail.com\")"
   ]
  },
  {
   "cell_type": "code",
   "execution_count": 5,
   "id": "e0463ac1-2268-4166-835a-9cb192745824",
   "metadata": {},
   "outputs": [
    {
     "data": {
      "text/plain": [
       "'pooja'"
      ]
     },
     "execution_count": 5,
     "metadata": {},
     "output_type": "execute_result"
    }
   ],
   "source": [
    "pw1.name_access"
   ]
  },
  {
   "cell_type": "code",
   "execution_count": 6,
   "id": "d64110fb-13bb-4885-8f69-f32996573188",
   "metadata": {},
   "outputs": [],
   "source": [
    "pw1.name_access_set=\"ankit\""
   ]
  },
  {
   "cell_type": "code",
   "execution_count": 7,
   "id": "9e5627a7-6cc8-4243-b5ed-cf2dea6ba412",
   "metadata": {},
   "outputs": [
    {
     "data": {
      "text/plain": [
       "'ankit'"
      ]
     },
     "execution_count": 7,
     "metadata": {},
     "output_type": "execute_result"
    }
   ],
   "source": [
    "pw1.name_access"
   ]
  },
  {
   "cell_type": "code",
   "execution_count": 8,
   "id": "0961b55b-95f2-472d-b6e8-d7614f81090a",
   "metadata": {},
   "outputs": [],
   "source": [
    "## Q5.What is method overriding in python? Write a python code to demonstrate method overriding."
   ]
  },
  {
   "cell_type": "code",
   "execution_count": 15,
   "id": "bd6cf50e-6a66-455b-b48f-545f4c9fc0a3",
   "metadata": {},
   "outputs": [],
   "source": [
    "##ans- Method overriding is a concept in object-oriented programming where a subclass provides its own implementation of a method that is already defined in its superclass. "
   ]
  },
  {
   "cell_type": "code",
   "execution_count": 25,
   "id": "a3d597f0-8bcf-402b-a9fd-73fb33d11592",
   "metadata": {},
   "outputs": [],
   "source": [
    "class animal:\n",
    "    \n",
    "    def __init__(self, name_animal, animal_type):\n",
    "        self.name_animal=name_animal\n",
    "        self.animal_type=animal_type\n",
    "        \n",
    "    def animal_deatils(self):\n",
    "        print(self.name_animal,self.animal_type)\n",
    "        "
   ]
  },
  {
   "cell_type": "code",
   "execution_count": 27,
   "id": "0c03b61d-ffea-40db-92f2-cbf4407cb36b",
   "metadata": {},
   "outputs": [],
   "source": [
    "ani=animal(\"Tommy\",\"Dog\")"
   ]
  },
  {
   "cell_type": "code",
   "execution_count": 28,
   "id": "33b4a00b-7efa-43c2-9662-394e9a462021",
   "metadata": {},
   "outputs": [
    {
     "data": {
      "text/plain": [
       "'Dog'"
      ]
     },
     "execution_count": 28,
     "metadata": {},
     "output_type": "execute_result"
    }
   ],
   "source": [
    "ani.animal_type"
   ]
  },
  {
   "cell_type": "code",
   "execution_count": 29,
   "id": "85c2e152-20ed-4a48-ab7d-91ddadd22d0c",
   "metadata": {},
   "outputs": [
    {
     "data": {
      "text/plain": [
       "'Tommy'"
      ]
     },
     "execution_count": 29,
     "metadata": {},
     "output_type": "execute_result"
    }
   ],
   "source": [
    "ani.name_animal"
   ]
  },
  {
   "cell_type": "code",
   "execution_count": 31,
   "id": "c58942ef-87e6-477f-8ead-d363e1937bbc",
   "metadata": {},
   "outputs": [
    {
     "name": "stdout",
     "output_type": "stream",
     "text": [
      "Tommy Dog\n"
     ]
    }
   ],
   "source": [
    "ani.animal_deatils()"
   ]
  },
  {
   "cell_type": "code",
   "execution_count": 32,
   "id": "34fd4c27-bc67-4a8a-bd02-15b3f982ade9",
   "metadata": {},
   "outputs": [],
   "source": [
    "##using class method override\n",
    "class animal:\n",
    "    \n",
    "    def __init__(self, name_animal, animal_type):\n",
    "        self.name_animal=name_animal\n",
    "        self.animal_type=animal_type\n",
    "        \n",
    "    @classmethod\n",
    "    def details(cls,name_animal,animal_type):\n",
    "        return cls(name_animal,animal_type)\n",
    "        \n",
    "    def animal_deatils(self):\n",
    "        print(self.name_animal,self.animal_type)"
   ]
  },
  {
   "cell_type": "code",
   "execution_count": 35,
   "id": "58a466b1-84c3-4f0f-b3d9-a0c065b1e785",
   "metadata": {},
   "outputs": [],
   "source": [
    "ANI=animal.details(\"Tommy\",\"Dog\")"
   ]
  },
  {
   "cell_type": "code",
   "execution_count": 36,
   "id": "1a752303-940a-4683-886a-42dd08598e0f",
   "metadata": {},
   "outputs": [
    {
     "data": {
      "text/plain": [
       "'Tommy'"
      ]
     },
     "execution_count": 36,
     "metadata": {},
     "output_type": "execute_result"
    }
   ],
   "source": [
    "ANI.name_animal"
   ]
  },
  {
   "cell_type": "code",
   "execution_count": 37,
   "id": "f1dde786-8e9e-433f-b898-6649256170d8",
   "metadata": {},
   "outputs": [
    {
     "data": {
      "text/plain": [
       "'Dog'"
      ]
     },
     "execution_count": 37,
     "metadata": {},
     "output_type": "execute_result"
    }
   ],
   "source": [
    "ANI.animal_type"
   ]
  },
  {
   "cell_type": "code",
   "execution_count": 39,
   "id": "c0756ea7-fa6c-4c03-86f6-05955517784d",
   "metadata": {},
   "outputs": [
    {
     "name": "stdout",
     "output_type": "stream",
     "text": [
      "Tommy Dog\n"
     ]
    }
   ],
   "source": [
    "ANI.animal_deatils()"
   ]
  },
  {
   "cell_type": "code",
   "execution_count": null,
   "id": "1a88f50d-5767-4673-bc8b-be67a0112455",
   "metadata": {},
   "outputs": [],
   "source": []
  }
 ],
 "metadata": {
  "kernelspec": {
   "display_name": "Python 3 (ipykernel)",
   "language": "python",
   "name": "python3"
  },
  "language_info": {
   "codemirror_mode": {
    "name": "ipython",
    "version": 3
   },
   "file_extension": ".py",
   "mimetype": "text/x-python",
   "name": "python",
   "nbconvert_exporter": "python",
   "pygments_lexer": "ipython3",
   "version": "3.10.8"
  }
 },
 "nbformat": 4,
 "nbformat_minor": 5
}
